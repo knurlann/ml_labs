{
  "nbformat": 4,
  "nbformat_minor": 0,
  "metadata": {
    "colab": {
      "name": "Untitled2.ipynb",
      "provenance": [],
      "collapsed_sections": [],
      "include_colab_link": true
    },
    "kernelspec": {
      "name": "python3",
      "display_name": "Python 3"
    }
  },
  "cells": [
    {
      "cell_type": "markdown",
      "metadata": {
        "id": "view-in-github",
        "colab_type": "text"
      },
      "source": [
        "<a href=\"https://colab.research.google.com/github/AidarZhumekenov/ML-labs/blob/master/Boston%20Linear%20Regression.ipynb\" target=\"_parent\"><img src=\"https://colab.research.google.com/assets/colab-badge.svg\" alt=\"Open In Colab\"/></a>"
      ]
    },
    {
      "cell_type": "code",
      "metadata": {
        "id": "EzQS9fuF6Pxs",
        "colab_type": "code",
        "colab": {}
      },
      "source": [
        "import pandas as pd\n",
        "import numpy as np\n",
        "from sklearn import linear_model\n",
        "from sklearn.datasets import load_boston  \n",
        "from sklearn.model_selection import train_test_split"
      ],
      "execution_count": 0,
      "outputs": []
    },
    {
      "cell_type": "code",
      "metadata": {
        "id": "paBftLMw52hn",
        "colab_type": "code",
        "colab": {
          "base_uri": "https://localhost:8080/",
          "height": 85
        },
        "outputId": "3bfb1bb9-6793-43b1-c995-4dc713552ba3"
      },
      "source": [
        "dataset = load_boston()\n",
        "df_x = pd.DataFrame(dataset.data, columns = dataset.feature_names)\n",
        "df_y = pd.DataFrame(dataset.target)\n",
        "\n",
        "reg = linear_model.LinearRegression()\n",
        "x_train, x_test, y_train, y_test = train_test_split(df_x,df_y, train_size=0.2)\n",
        "\n",
        "reg.fit(x_train,y_train)\n",
        "\n",
        "reg.coef_"
      ],
      "execution_count": 30,
      "outputs": [
        {
          "output_type": "execute_result",
          "data": {
            "text/plain": [
              "array([[  0.03975068,   0.01609721,   0.14083355,   0.40713083,\n",
              "        -10.09676274,   6.50698578,  -0.01382832,  -0.63762174,\n",
              "          0.22772239,  -0.01452824,  -1.04111719,   0.01301549,\n",
              "         -0.4355574 ]])"
            ]
          },
          "metadata": {
            "tags": []
          },
          "execution_count": 30
        }
      ]
    },
    {
      "cell_type": "code",
      "metadata": {
        "id": "wI-kQThGiIHR",
        "colab_type": "code",
        "colab": {
          "base_uri": "https://localhost:8080/",
          "height": 34
        },
        "outputId": "60919241-28a3-425d-8d77-febd816116ac"
      },
      "source": [
        "a = reg.predict(x_test)\n",
        "a[0]\n",
        "\n"
      ],
      "execution_count": 33,
      "outputs": [
        {
          "output_type": "execute_result",
          "data": {
            "text/plain": [
              "array([14.00408554])"
            ]
          },
          "metadata": {
            "tags": []
          },
          "execution_count": 33
        }
      ]
    },
    {
      "cell_type": "code",
      "metadata": {
        "id": "Lbrl5fIMig2s",
        "colab_type": "code",
        "colab": {
          "base_uri": "https://localhost:8080/",
          "height": 221
        },
        "outputId": "9fb28c8e-478b-4177-cb30-158fcbaf1926"
      },
      "source": [
        "y_test[0]"
      ],
      "execution_count": 34,
      "outputs": [
        {
          "output_type": "execute_result",
          "data": {
            "text/plain": [
              "140    14.0\n",
              "376    13.9\n",
              "338    20.6\n",
              "456    12.7\n",
              "364    21.9\n",
              "       ... \n",
              "21     19.6\n",
              "440    10.5\n",
              "472    23.2\n",
              "387     7.4\n",
              "238    23.7\n",
              "Name: 0, Length: 405, dtype: float64"
            ]
          },
          "metadata": {
            "tags": []
          },
          "execution_count": 34
        }
      ]
    },
    {
      "cell_type": "code",
      "metadata": {
        "id": "HxT81bpJjDcb",
        "colab_type": "code",
        "colab": {
          "base_uri": "https://localhost:8080/",
          "height": 51
        },
        "outputId": "cb313cb6-e19d-485b-9c9d-a779af2851f2"
      },
      "source": [
        "#mean square error\n",
        "np.mean((a-y_test)**2)"
      ],
      "execution_count": 35,
      "outputs": [
        {
          "output_type": "execute_result",
          "data": {
            "text/plain": [
              "0    29.362996\n",
              "dtype: float64"
            ]
          },
          "metadata": {
            "tags": []
          },
          "execution_count": 35
        }
      ]
    }
  ]
}